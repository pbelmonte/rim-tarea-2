{
 "cells": [
  {
   "cell_type": "markdown",
   "metadata": {},
   "source": [
    "# Tarea 2 - Recuperación de Información Multimedia\n",
    "El siguiente reporte pretende contestar las preguntas planteadas en el enunciado. Para esto se deben cargar los descriptores, y analizar los datos aplicando las técnicas vistas en clases."
   ]
  },
  {
   "cell_type": "markdown",
   "metadata": {},
   "source": [
    "## Carga de Descriptores\n",
    "Primero se cargan los descriptores, los cuales seran almacenados en las variables dataset_q_mel, dataset_r_mel, dataset_q_sift, dataset_r_sift, dataset_q_vgg y dataset_r_vgg."
   ]
  },
  {
   "cell_type": "code",
   "execution_count": 1,
   "metadata": {},
   "outputs": [
    {
     "name": "stdout",
     "output_type": "stream",
     "text": [
      "Q=(21573, 128) R=(33545, 128)\n",
      "Q=(2886, 128) R=(202088, 128)\n",
      "Q=(842, 4096) R=(10171, 4096)\n"
     ]
    }
   ],
   "source": [
    "import numpy as np\n",
    "import os\n",
    "\n",
    "\n",
    "def load_file(filename, num_vectors, vector_dimensions):\n",
    "    assert os.path.isfile(filename), \"no existe archivo \" + filename\n",
    "    mat = np.fromfile(filename, dtype=np.float32)\n",
    "    return np.reshape(mat, (num_vectors, vector_dimensions))\n",
    "\n",
    "\n",
    "def load_dataset_pair(dirname, num_vectors_q, num_vectors_r, vector_dimensions):\n",
    "    file_q = \"{}/Q-{}_{}_4F.bin\".format(dirname, num_vectors_q, vector_dimensions)\n",
    "    file_r = \"{}/R-{}_{}_4F.bin\".format(dirname, num_vectors_r, vector_dimensions)\n",
    "    data_q = load_file(file_q, num_vectors_q, vector_dimensions)\n",
    "    data_r = load_file(file_r, num_vectors_r, vector_dimensions)\n",
    "    return data_q, data_r\n",
    "\n",
    "\n",
    "(dataset_q_mel, dataset_r_mel) = load_dataset_pair(\"descriptores/MEL128\", 21573, 33545, 128)\n",
    "print(\"Q={} R={}\".format(dataset_q_mel.shape, dataset_r_mel.shape))\n",
    "\n",
    "(dataset_q_sift, dataset_r_sift) = load_dataset_pair(\"descriptores/SIFT\", 2886, 202088, 128)\n",
    "print(\"Q={} R={}\".format(dataset_q_sift.shape, dataset_r_sift.shape))\n",
    "\n",
    "(dataset_q_vgg, dataset_r_vgg) = load_dataset_pair(\"descriptores/VGG19\", 842, 10171, 4096)\n",
    "print(\"Q={} R={}\".format(dataset_q_vgg.shape, dataset_r_vgg.shape))"
   ]
  },
  {
   "cell_type": "markdown",
   "metadata": {},
   "source": [
    "## Histogramas de distancias\n",
    "Se pide calcular el histograma de distancias del conjunto R de cada descriptor, y determinar su dimensión intrínseca ($\\rho=\\mu^2/2\\sigma^2$)."
   ]
  },
  {
   "cell_type": "markdown",
   "metadata": {},
   "source": [
    "Primero se define una función de distancia entre dos descriptores como un arreglo de las distancias entre cada par de vectores."
   ]
  },
  {
   "cell_type": "code",
   "execution_count": 2,
   "metadata": {},
   "outputs": [],
   "source": [
    "def distance(r, l):\n",
    "    dists = []\n",
    "    for x in r:\n",
    "        for y in l:\n",
    "            dist = np.linalg.norm(x-y)\n",
    "            if dist != 0:\n",
    "                dists.append(dist)\n",
    "    return np.array(dists)"
   ]
  },
  {
   "cell_type": "markdown",
   "metadata": {},
   "source": [
    "Se importan las librerías necesarias."
   ]
  },
  {
   "cell_type": "code",
   "execution_count": 3,
   "metadata": {},
   "outputs": [],
   "source": [
    "import matplotlib\n",
    "import matplotlib.pyplot as plt\n",
    "import random\n",
    "from scipy.stats import norm"
   ]
  },
  {
   "cell_type": "markdown",
   "metadata": {},
   "source": [
    "Se define una función para graficar el histograma que recibe como parámetros el dataset, y un nombre que se desea agregar al título."
   ]
  },
  {
   "cell_type": "code",
   "execution_count": 4,
   "metadata": {},
   "outputs": [],
   "source": [
    "def histogram(input_dataset, name):\n",
    "    np.random.seed(19680801)\n",
    "    \n",
    "    # se seleccionan 500 vectores de muestra\n",
    "    dataset = input_dataset[np.random.choice(input_dataset.shape[0], 500, replace=False), :]\n",
    "    \n",
    "    # se obtienen las distancias\n",
    "    dists = distance(dataset, dataset)\n",
    "    \n",
    "    # mu y sigma\n",
    "    mu, std = norm.fit(dists)\n",
    "    \n",
    "    # dimension intrinseca\n",
    "    rho = (mu**2) / (2 * (std**2))\n",
    "    \n",
    "    # cantidad de bins\n",
    "    num_bins = 100\n",
    "\n",
    "    fig, ax = plt.subplots()\n",
    "\n",
    "    n, bins, patches = ax.hist(dists, num_bins)\n",
    "\n",
    "    ax.set_xlabel('Distancia')\n",
    "    ax.set_ylabel('Frecuencia')\n",
    "    ax.set_title(r'Histograma de distancias ' + name + ':\\n$\\mu=' + str(mu) + '$, $\\sigma=' + str(std) + '$, $\\\\rho=' + str(rho) + '$')\n",
    "\n",
    "    plt.show()\n",
    "    \n",
    "    return"
   ]
  },
  {
   "cell_type": "markdown",
   "metadata": {},
   "source": [
    "#### Histograma MEL128"
   ]
  },
  {
   "cell_type": "code",
   "execution_count": 5,
   "metadata": {
    "scrolled": true
   },
   "outputs": [
    {
     "data": {
      "image/png": "[encoded data removed]",
      "text/plain": [
       "<Figure size 432x288 with 1 Axes>"
      ]
     },
     "metadata": {
      "needs_background": "light"
     },
     "output_type": "display_data"
    }
   ],
   "source": [
    "histogram(dataset_r_mel, \"Dataset R MEL128\")"
   ]
  },
  {
   "cell_type": "markdown",
   "metadata": {},
   "source": [
    "#### Histograma SIFT"
   ]
  },
  {
   "cell_type": "code",
   "execution_count": 6,
   "metadata": {},
   "outputs": [
    {
     "data": {
      "image/png": "[encoded data removed]",
      "text/plain": [
       "<Figure size 432x288 with 1 Axes>"
      ]
     },
     "metadata": {
      "needs_background": "light"
     },
     "output_type": "display_data"
    }
   ],
   "source": [
    "histogram(dataset_r_sift, \"Dataset R SIFT\")"
   ]
  },
  {
   "cell_type": "markdown",
   "metadata": {},
   "source": [
    "#### Histograma VGG19"
   ]
  },
  {
   "cell_type": "code",
   "execution_count": 7,
   "metadata": {},
   "outputs": [
    {
     "data": {
      "image/png": "[encoded data removed]",
      "text/plain": [
       "<Figure size 432x288 with 1 Axes>"
      ]
     },
     "metadata": {
      "needs_background": "light"
     },
     "output_type": "display_data"
    }
   ],
   "source": [
    "histogram(dataset_r_vgg, \"Dataset R VGG19\")"
   ]
  },
  {
   "cell_type": "markdown",
   "metadata": {},
   "source": [
    "## Construcción y Aplicación de Índices"
   ]
  },
  {
   "cell_type": "code",
   "execution_count": 8,
   "metadata": {},
   "outputs": [],
   "source": [
    "import pyflann\n",
    "import time\n",
    "\n",
    "#crea un objeto flann\n",
    "flann = pyflann.FLANN()"
   ]
  },
  {
   "cell_type": "markdown",
   "metadata": {},
   "source": [
    "### Linear Scan\n",
    "Se usa Linear Scan para obtener los vecinos más cercanos reales para cada uno de los tres conjuntos. "
   ]
  },
  {
   "cell_type": "code",
   "execution_count": 9,
   "metadata": {},
   "outputs": [],
   "source": [
    "def aplicar_lscan(dataset_q, dataset_r):\n",
    "    #construir el indice linear scan\n",
    "    t0 = time.time()\n",
    "    flann.build_index(dataset_r, algorithm=\"linear\")\n",
    "    t1 = time.time()\n",
    "    print(\"construccion linear scan={:.1f}\".format(t1-t0))\n",
    "\n",
    "    #buscar el NN usando el ultimo indice construido (linear scan)\n",
    "    t0 = time.time()\n",
    "    lscan_results, lscan_dists = flann.nn_index(dataset_q, num_neighbors=1, cores=1)\n",
    "    t1 = time.time()\n",
    "    tiempo_lscan = t1-t0\n",
    "    print(\"busqueda linear scan={:.1f}\".format(tiempo_lscan))\n",
    "    return lscan_results, lscan_dists, tiempo_lscan"
   ]
  },
  {
   "cell_type": "code",
   "execution_count": 10,
   "metadata": {},
   "outputs": [
    {
     "name": "stdout",
     "output_type": "stream",
     "text": [
      "construccion linear scan=0.0\n",
      "busqueda linear scan=163.8\n"
     ]
    }
   ],
   "source": [
    "lscan_results_mel, lscan_dists_mel, tiempo_lscan_mel = aplicar_lscan(dataset_q_mel, dataset_r_mel)"
   ]
  },
  {
   "cell_type": "code",
   "execution_count": 11,
   "metadata": {},
   "outputs": [
    {
     "name": "stdout",
     "output_type": "stream",
     "text": [
      "construccion linear scan=0.0\n",
      "busqueda linear scan=131.9\n"
     ]
    }
   ],
   "source": [
    "lscan_results_sift, lscan_dists_sift, tiempo_lscan_sift = aplicar_lscan(dataset_q_sift, dataset_r_sift)"
   ]
  },
  {
   "cell_type": "code",
   "execution_count": 12,
   "metadata": {},
   "outputs": [
    {
     "name": "stdout",
     "output_type": "stream",
     "text": [
      "construccion linear scan=0.0\n",
      "busqueda linear scan=57.6\n"
     ]
    }
   ],
   "source": [
    "lscan_results_vgg, lscan_dists_vgg, tiempo_lscan_vgg = aplicar_lscan(dataset_q_vgg, dataset_r_vgg)"
   ]
  },
  {
   "cell_type": "markdown",
   "metadata": {},
   "source": [
    "### KD-Tree\n",
    "Se aplica el índice KD-Tree."
   ]
  },
  {
   "cell_type": "markdown",
   "metadata": {},
   "source": [
    "Función para evaluar un resultado."
   ]
  },
  {
   "cell_type": "code",
   "execution_count": 21,
   "metadata": {},
   "outputs": [],
   "source": [
    "def evaluar_resultado(results, dists, tiempo, lscan_results, lscan_dists, tiempo_lscan):\n",
    "    correctas = 0\n",
    "    incorrectas = 0\n",
    "    iguales = 0\n",
    "    for i in range(len(lscan_results)):\n",
    "        #comparar las distancias\n",
    "        if dists[i] == lscan_dists[i]: \n",
    "            correctas += 1\n",
    "        elif dists[i] > lscan_dists[i]: \n",
    "            incorrectas += 1        \n",
    "        else:\n",
    "            assert False, \"distancia erronea!\"\n",
    "        #comparar el NN\n",
    "        if results[i] == lscan_results[i]: \n",
    "            iguales += 1\n",
    "    efectividad = 100 * correctas / (correctas + incorrectas)\n",
    "    eficiencia = 100 * tiempo / tiempo_lscan\n",
    "    #print(\"efectividad={:.1f}% eficiencia={:.1f}% correctas={} incorrectas={} mismo-NN={}\".format(efectividad, eficiencia, correctas, incorrectas, iguales))\n",
    "    return efectividad, eficiencia, correctas, incorrectas, iguales"
   ]
  },
  {
   "cell_type": "markdown",
   "metadata": {},
   "source": [
    "Función para construir y aplicar KD-Tree, que retorna los resultados de evaluación. Recibe los dataset, los resultados de Linear Scan y los parámetros del KD-Tree."
   ]
  },
  {
   "cell_type": "code",
   "execution_count": 22,
   "metadata": {},
   "outputs": [],
   "source": [
    "def aplicar_kdtree(dataset_q, dataset_r, lscan_results, lscan_dists, tiempo_lscan, trees, checks):\n",
    "    #construir el indice kdtree con trees = trees\n",
    "    t0 = time.time()\n",
    "    flann.build_index(dataset_r, algorithm=\"kdtree\", trees=trees)\n",
    "    t1 = time.time()\n",
    "    #print(\"construccion kdtree={:.1f}, trees={}\".format(t1-t0, trees))\n",
    "\n",
    "    #buscar aproximada del NN con el ultimo indice construido (kdtree)\n",
    "    t0 = time.time()\n",
    "    approx_results, approx_dists = flann.nn_index(dataset_q, num_neighbors=1, cores=1, checks=checks)\n",
    "    t1 = time.time()\n",
    "    tiempo = t1-t0\n",
    "    #print(\"busqueda aproximada kdtree={:.1f}, trees={}\".format(tiempo, trees))\n",
    "\n",
    "    efectividad, eficiencia, correctas, incorrectas, iguales = evaluar_resultado(approx_results, approx_dists, tiempo, lscan_results, lscan_dists, tiempo_lscan)\n",
    "    return efectividad, eficiencia, correctas, incorrectas, iguales"
   ]
  },
  {
   "cell_type": "markdown",
   "metadata": {},
   "source": [
    "Función para aplicar múltiples KD-Trees con distintos checks y una cantidad fija de trees. Recibe como parámetros el dataset_q, el dataset_r, los resultados de Linear Scan (incluyendo resultados, distancia y tiempo), la cantidad de trees y el step para ir aumentando la cantidad de checks. Retorna una lista de tuplas con los resultados de cada iteración."
   ]
  },
  {
   "cell_type": "code",
   "execution_count": 103,
   "metadata": {},
   "outputs": [],
   "source": [
    "def aplicar_kdtrees(dataset_q, dataset_r, lscan_results, lscan_dists, tiempo_lscan, trees, step):\n",
    "    # inicializar variables\n",
    "    results = []\n",
    "    checks = 0 - step\n",
    "    \n",
    "    # se hacen multiples busquedas aproximadas hasta obtener una efectividad de 95%\n",
    "    while True:\n",
    "        checks += step\n",
    "        efectividad, eficiencia, correctas, incorrectas, iguales = aplicar_kdtree(dataset_q, dataset_r, lscan_results, lscan_dists, tiempo_lscan, trees, checks)\n",
    "        results.append((efectividad, eficiencia, correctas, incorrectas, iguales))\n",
    "        if efectividad >= 95:\n",
    "            break\n",
    "    \n",
    "    # finalmente se hace una busqueda exacta para obtener el 100% de efectividad\n",
    "    efectividad, eficiencia, correctas, incorrectas, iguales = aplicar_kdtree(dataset_q, dataset_r, lscan_results, lscan_dists, tiempo_lscan, trees, -1)\n",
    "    results.append((efectividad, eficiencia, correctas, incorrectas, iguales))\n",
    "    return results"
   ]
  },
  {
   "cell_type": "markdown",
   "metadata": {},
   "source": [
    "#### MEL128"
   ]
  },
  {
   "cell_type": "code",
   "execution_count": 95,
   "metadata": {},
   "outputs": [],
   "source": [
    "results_kdtree_1_mel = aplicar_kdtrees(dataset_q_mel, dataset_r_mel, lscan_results_mel, lscan_dists_mel, tiempo_lscan_mel, 1, 200)\n",
    "results_kdtree_5_mel = aplicar_kdtrees(dataset_q_mel, dataset_r_mel, lscan_results_mel, lscan_dists_mel, tiempo_lscan_mel, 5, 200)\n",
    "results_kdtree_10_mel = aplicar_kdtrees(dataset_q_mel, dataset_r_mel, lscan_results_mel, lscan_dists_mel, tiempo_lscan_mel, 10, 200)"
   ]
  },
  {
   "cell_type": "code",
   "execution_count": 97,
   "metadata": {},
   "outputs": [
    {
     "data": {
      "image/png": "[encoded data removed]",
      "text/plain": [
       "<Figure size 432x288 with 1 Axes>"
      ]
     },
     "metadata": {
      "needs_background": "light"
     },
     "output_type": "display_data"
    }
   ],
   "source": [
    "# obtener efectividad y eficiencia para cada caso\n",
    "efectividad_kdtree_1_mel = [e[0] for e in results_kdtree_1_mel]\n",
    "eficiencia_kdtree_1_mel = [e[1] for e in results_kdtree_1_mel]\n",
    "\n",
    "efectividad_kdtree_5_mel = [e[0] for e in results_kdtree_5_mel]\n",
    "eficiencia_kdtree_5_mel = [e[1] for e in results_kdtree_5_mel]\n",
    "\n",
    "efectividad_kdtree_10_mel = [e[0] for e in results_kdtree_10_mel]\n",
    "eficiencia_kdtree_10_mel = [e[1] for e in results_kdtree_10_mel]\n",
    "\n",
    "fig, ax = plt.subplots()\n",
    "ax.set_xlim([0,100])\n",
    "ax.set_ylim([0,100])\n",
    "ax.set_xlabel('Efectividad (%)')\n",
    "ax.set_ylabel('Eficiencia (%)')\n",
    "ax.set_title(r'Efectividad vs Eficiencia')\n",
    "\n",
    "# graficar\n",
    "ax.plot(efectividad_kdtree_1_mel, eficiencia_kdtree_1_mel, 'b', label='1 Tree')\n",
    "ax.plot(efectividad_kdtree_5_mel, eficiencia_kdtree_5_mel, 'g', label='5 Trees') \n",
    "ax.plot(efectividad_kdtree_10_mel, eficiencia_kdtree_10_mel, 'r', label='10 Trees')\n",
    "\n",
    "legend = ax.legend(loc='upper left', shadow=True, fontsize='large')\n",
    "\n",
    "plt.show()"
   ]
  },
  {
   "cell_type": "markdown",
   "metadata": {},
   "source": [
    "En este caso se puede observar que lo mejor es siempre usar 10 trees, ya que la curva mantiene siempre mejor efectividad y eficiencia que las otras. Es decir, para MEL128 con KD-Tree nos quedamos con results_kdtree_10_mel."
   ]
  },
  {
   "cell_type": "markdown",
   "metadata": {},
   "source": [
    "#### SIFT"
   ]
  },
  {
   "cell_type": "code",
   "execution_count": 99,
   "metadata": {},
   "outputs": [],
   "source": [
    "results_kdtree_1_sift = aplicar_kdtrees(dataset_q_sift, dataset_r_sift, lscan_results_sift, lscan_dists_sift, tiempo_lscan_sift, 1, 200)\n",
    "results_kdtree_5_sift = aplicar_kdtrees(dataset_q_sift, dataset_r_sift, lscan_results_sift, lscan_dists_sift, tiempo_lscan_sift, 5, 200)\n",
    "results_kdtree_10_sift = aplicar_kdtrees(dataset_q_sift, dataset_r_sift, lscan_results_sift, lscan_dists_sift, tiempo_lscan_sift, 10, 200)"
   ]
  },
  {
   "cell_type": "code",
   "execution_count": 101,
   "metadata": {},
   "outputs": [
    {
     "data": {
      "image/png": "[encoded data removed]",
      "text/plain": [
       "<Figure size 432x288 with 1 Axes>"
      ]
     },
     "metadata": {
      "needs_background": "light"
     },
     "output_type": "display_data"
    }
   ],
   "source": [
    "# obtener efectividad y eficiencia para cada caso\n",
    "efectividad_kdtree_1_sift = [e[0] for e in results_kdtree_1_sift]\n",
    "eficiencia_kdtree_1_sift = [e[1] for e in results_kdtree_1_sift]\n",
    "\n",
    "efectividad_kdtree_5_sift = [e[0] for e in results_kdtree_5_sift]\n",
    "eficiencia_kdtree_5_sift = [e[1] for e in results_kdtree_5_sift]\n",
    "\n",
    "efectividad_kdtree_10_sift = [e[0] for e in results_kdtree_10_sift]\n",
    "eficiencia_kdtree_10_sift = [e[1] for e in results_kdtree_10_sift]\n",
    "\n",
    "fig, ax = plt.subplots()\n",
    "ax.set_xlim([0,100])\n",
    "ax.set_ylim([0,100])\n",
    "ax.set_xlabel('Efectividad (%)')\n",
    "ax.set_ylabel('Eficiencia (%)')\n",
    "ax.set_title(r'Efectividad vs Eficiencia')\n",
    "\n",
    "# graficar\n",
    "ax.plot(efectividad_kdtree_1_sift, eficiencia_kdtree_1_sift, 'b', label='1 Tree')\n",
    "ax.plot(efectividad_kdtree_5_sift, eficiencia_kdtree_5_sift, 'g', label='5 Trees') \n",
    "ax.plot(efectividad_kdtree_10_sift, eficiencia_kdtree_10_sift, 'r', label='10 Trees')\n",
    "\n",
    "legend = ax.legend(loc='upper left', shadow=True, fontsize='large')\n",
    "\n",
    "plt.show()"
   ]
  },
  {
   "cell_type": "markdown",
   "metadata": {},
   "source": [
    "En este caso se observa que todos son muy parecidos, teniendo el caso de 10 Trees una ligera ventaja. Es decir, para SIFT con KD-Tree nos quedamos con results_kdtree_10_sift."
   ]
  },
  {
   "cell_type": "markdown",
   "metadata": {},
   "source": [
    "#### VGG19"
   ]
  },
  {
   "cell_type": "code",
   "execution_count": 92,
   "metadata": {},
   "outputs": [],
   "source": [
    "results_kdtree_1_vgg = aplicar_kdtrees(dataset_q_vgg, dataset_r_vgg, lscan_results_vgg, lscan_dists_vgg, tiempo_lscan_vgg, 1, 200)\n",
    "results_kdtree_5_vgg = aplicar_kdtrees(dataset_q_vgg, dataset_r_vgg, lscan_results_vgg, lscan_dists_vgg, tiempo_lscan_vgg, 5, 200)\n",
    "results_kdtree_10_vgg = aplicar_kdtrees(dataset_q_vgg, dataset_r_vgg, lscan_results_vgg, lscan_dists_vgg, tiempo_lscan_vgg, 10, 200)"
   ]
  },
  {
   "cell_type": "code",
   "execution_count": 102,
   "metadata": {},
   "outputs": [
    {
     "data": {
      "image/png": "[encoded data removed]",
      "text/plain": [
       "<Figure size 432x288 with 1 Axes>"
      ]
     },
     "metadata": {
      "needs_background": "light"
     },
     "output_type": "display_data"
    }
   ],
   "source": [
    "# obtener efectividad y eficiencia para cada caso\n",
    "efectividad_kdtree_1_vgg = [e[0] for e in results_kdtree_1_vgg]\n",
    "eficiencia_kdtree_1_vgg = [e[1] for e in results_kdtree_1_vgg]\n",
    "\n",
    "efectividad_kdtree_5_vgg = [e[0] for e in results_kdtree_5_vgg]\n",
    "eficiencia_kdtree_5_vgg = [e[1] for e in results_kdtree_5_vgg]\n",
    "\n",
    "efectividad_kdtree_10_vgg = [e[0] for e in results_kdtree_10_vgg]\n",
    "eficiencia_kdtree_10_vgg = [e[1] for e in results_kdtree_10_vgg]\n",
    "\n",
    "fig, ax = plt.subplots()\n",
    "ax.set_xlim([0,100])\n",
    "ax.set_ylim([0,100])\n",
    "ax.set_xlabel('Efectividad (%)')\n",
    "ax.set_ylabel('Eficiencia (%)')\n",
    "ax.set_title(r'Efectividad vs Eficiencia')\n",
    "\n",
    "# graficar\n",
    "ax.plot(efectividad_kdtree_1_vgg, eficiencia_kdtree_1_vgg, 'b', label='1 Tree')\n",
    "ax.plot(efectividad_kdtree_5_vgg, eficiencia_kdtree_5_vgg, 'g', label='5 Trees') \n",
    "ax.plot(efectividad_kdtree_10_vgg, eficiencia_kdtree_10_vgg, 'r', label='10 Trees')\n",
    "\n",
    "legend = ax.legend(loc='upper left', shadow=True, fontsize='large')\n",
    "\n",
    "plt.show()"
   ]
  },
  {
   "cell_type": "markdown",
   "metadata": {},
   "source": [
    "En este caso se observa que el mejor índice depende de lo que se necesita. Con algunos valores de efectividad entre ~80% y ~95% es mejor el KD-Tree con 10 trees, pero si se necesita una efectividad mayor a 95% es mejor usar 5 trees. Vamos a asumir que no se necesita tanta efectividad y por lo tanto para VGG19 con KD-Tree nos quedamos con results_kdtree_10_vgg."
   ]
  },
  {
   "cell_type": "markdown",
   "metadata": {},
   "source": [
    "### K-Means\n",
    "Se aplica el índice K-Means."
   ]
  },
  {
   "cell_type": "code",
   "execution_count": 121,
   "metadata": {},
   "outputs": [],
   "source": [
    "def aplicar_kmean(dataset_q, dataset_r, lscan_results, lscan_dists, tiempo_lscan, branching, iterations, checks):\n",
    "    #construir el indice kmeans con branching = branching e iterations = iterations\n",
    "    t0 = time.time()\n",
    "    flann.build_index(dataset_r, algorithm=\"kmeans\", branching=branching, iterations=iterations, cb_index=0)\n",
    "    t1 = time.time()\n",
    "    #print(\"construccion kmeans={:.1f}, branching={}, iterations={}\".format(t1-t0, branching, iterations))\n",
    "\n",
    "    #buscar aproximada del NN con el ultimo indice construido (kmeans)\n",
    "    t0 = time.time()\n",
    "    approx_results, approx_dists = flann.nn_index(dataset_q, num_neighbors=1, cores=1, checks=checks)\n",
    "    t1 = time.time()\n",
    "    tiempo = t1-t0\n",
    "    #print(\"busqueda aproximada kdtree={:.1f}, branching={}, iterations={}\".format(tiempo, branching, iterations))\n",
    "\n",
    "    efectividad, eficiencia, correctas, incorrectas, iguales = evaluar_resultado(approx_results, approx_dists, tiempo, lscan_results, lscan_dists, tiempo_lscan)\n",
    "    return efectividad, eficiencia, correctas, incorrectas, iguales"
   ]
  },
  {
   "cell_type": "code",
   "execution_count": 125,
   "metadata": {},
   "outputs": [],
   "source": [
    "def aplicar_kmeans(dataset_q, dataset_r, lscan_results, lscan_dists, tiempo_lscan, branching, iterations, step):\n",
    "    # inicializar variables\n",
    "    results = []\n",
    "    checks = 0 - step\n",
    "    \n",
    "    # se hacen multiples busquedas aproximadas hasta obtener una efectividad de 95%\n",
    "    while True:\n",
    "        checks += step\n",
    "        efectividad, eficiencia, correctas, incorrectas, iguales = aplicar_kmean(dataset_q, dataset_r, lscan_results, lscan_dists, tiempo_lscan, branching, iterations, checks)\n",
    "        results.append((efectividad, eficiencia, correctas, incorrectas, iguales))\n",
    "        if efectividad >= 95:\n",
    "            break\n",
    "    \n",
    "    # finalmente se hace una busqueda exacta para obtener el 100% de efectividad\n",
    "    efectividad, eficiencia, correctas, incorrectas, iguales = aplicar_kmean(dataset_q, dataset_r, lscan_results, lscan_dists, tiempo_lscan, branching, iterations, -1)\n",
    "    results.append((efectividad, eficiencia, correctas, incorrectas, iguales))\n",
    "    return results"
   ]
  },
  {
   "cell_type": "markdown",
   "metadata": {},
   "source": [
    "#### MEL128"
   ]
  },
  {
   "cell_type": "code",
   "execution_count": 126,
   "metadata": {},
   "outputs": [],
   "source": [
    "results_kmeans_2_mel = aplicar_kmeans(dataset_q_mel, dataset_r_mel, lscan_results_mel, lscan_dists_mel, tiempo_lscan_mel, 2, 1, 200)"
   ]
  },
  {
   "cell_type": "code",
   "execution_count": null,
   "metadata": {},
   "outputs": [],
   "source": [
    "results_kmeans_4_mel = aplicar_kmeans(dataset_q_mel, dataset_r_mel, lscan_results_mel, lscan_dists_mel, tiempo_lscan_mel, 4, 1, 200)"
   ]
  },
  {
   "cell_type": "code",
   "execution_count": null,
   "metadata": {},
   "outputs": [],
   "source": [
    "results_kmeans_6_mel = aplicar_kmeans(dataset_q_mel, dataset_r_mel, lscan_results_mel, lscan_dists_mel, tiempo_lscan_mel, 6, 1, 200)"
   ]
  },
  {
   "cell_type": "code",
   "execution_count": null,
   "metadata": {},
   "outputs": [],
   "source": [
    "# obtener efectividad y eficiencia para cada caso\n",
    "efectividad_kmeans_2_mel = [e[0] for e in results_kmeans_2_mel]\n",
    "eficiencia_kmeans_2_mel = [e[1] for e in results_kmeans_2_mel]\n",
    "\n",
    "efectividad_kmeans_4_mel = [e[0] for e in results_kmeans_4_mel]\n",
    "eficiencia_kmeans_4_mel = [e[1] for e in results_kmeans_4_mel]\n",
    "\n",
    "efectividad_kmeans_6_mel = [e[0] for e in results_kmeans_6_mel]\n",
    "eficiencia_kmeans_6_mel = [e[1] for e in results_kmeans_6_mel]\n",
    "\n",
    "fig, ax = plt.subplots()\n",
    "ax.set_xlim([0,100])\n",
    "ax.set_ylim([0,100])\n",
    "ax.set_xlabel('Efectividad (%)')\n",
    "ax.set_ylabel('Eficiencia (%)')\n",
    "ax.set_title(r'Efectividad vs Eficiencia')\n",
    "\n",
    "# graficar\n",
    "ax.plot(efectividad_kmeans_2_mel, eficiencia_kmeans_2_mel, 'b', label='Branching = 2')\n",
    "ax.plot(efectividad_kmeans_4_mel, eficiencia_kmeans_4_mel, 'g', label='Branching = 4') \n",
    "ax.plot(efectividad_kmeans_6_mel, eficiencia_kmeans_6_mel, 'r', label='Branching = 6')\n",
    "\n",
    "legend = ax.legend(loc='upper left', shadow=True, fontsize='large')\n",
    "\n",
    "plt.show()"
   ]
  },
  {
   "cell_type": "markdown",
   "metadata": {},
   "source": [
    "#### SIFT"
   ]
  },
  {
   "cell_type": "code",
   "execution_count": null,
   "metadata": {},
   "outputs": [],
   "source": [
    "results_kmeans_2_sift = aplicar_kmeans(dataset_q_sift, dataset_r_sift, lscan_results_sift, lscan_dists_sift, tiempo_lscan_sift, 2, 1, 200)"
   ]
  },
  {
   "cell_type": "code",
   "execution_count": null,
   "metadata": {},
   "outputs": [],
   "source": [
    "results_kmeans_4_sift = aplicar_kmeans(dataset_q_sift, dataset_r_sift, lscan_results_sift, lscan_dists_sift, tiempo_lscan_sift, 4, 1, 200)"
   ]
  },
  {
   "cell_type": "code",
   "execution_count": null,
   "metadata": {},
   "outputs": [],
   "source": [
    "results_kmeans_6_sift = aplicar_kmeans(dataset_q_sift, dataset_r_sift, lscan_results_sift, lscan_dists_sift, tiempo_lscan_sift, 6, 1, 200)"
   ]
  },
  {
   "cell_type": "code",
   "execution_count": null,
   "metadata": {},
   "outputs": [],
   "source": [
    "# obtener efectividad y eficiencia para cada caso\n",
    "efectividad_kmeans_2_sift = [e[0] for e in results_kmeans_2_sift]\n",
    "eficiencia_kmeans_2_sift = [e[1] for e in results_kmeans_2_sift]\n",
    "\n",
    "efectividad_kmeans_4_sift = [e[0] for e in results_kmeans_4_sift]\n",
    "eficiencia_kmeans_4_sift = [e[1] for e in results_kmeans_4_sift]\n",
    "\n",
    "efectividad_kmeans_6_sift = [e[0] for e in results_kmeans_6_sift]\n",
    "eficiencia_kmeans_6_sift = [e[1] for e in results_kmeans_6_sift]\n",
    "\n",
    "fig, ax = plt.subplots()\n",
    "ax.set_xlim([0,100])\n",
    "ax.set_ylim([0,100])\n",
    "ax.set_xlabel('Efectividad (%)')\n",
    "ax.set_ylabel('Eficiencia (%)')\n",
    "ax.set_title(r'Efectividad vs Eficiencia')\n",
    "\n",
    "# graficar\n",
    "ax.plot(efectividad_kmeans_2_sift, eficiencia_kmeans_2_sift, 'b', label='Branching = 2')\n",
    "ax.plot(efectividad_kmeans_4_sift, eficiencia_kmeans_4_sift, 'g', label='Branching = 4') \n",
    "ax.plot(efectividad_kmeans_6_sift, eficiencia_kmeans_6_sift, 'r', label='Branching = 6')\n",
    "\n",
    "legend = ax.legend(loc='upper left', shadow=True, fontsize='large')\n",
    "\n",
    "plt.show()"
   ]
  },
  {
   "cell_type": "markdown",
   "metadata": {},
   "source": [
    "#### VGG19"
   ]
  },
  {
   "cell_type": "code",
   "execution_count": null,
   "metadata": {},
   "outputs": [],
   "source": [
    "results_kmeans_2_vgg = aplicar_kmeans(dataset_q_vgg, dataset_r_vgg, lscan_results_vgg, lscan_dists_vgg, tiempo_lscan_vgg, 2, 1, 200)"
   ]
  },
  {
   "cell_type": "code",
   "execution_count": null,
   "metadata": {},
   "outputs": [],
   "source": [
    "results_kmeans_4_vgg = aplicar_kmeans(dataset_q_vgg, dataset_r_vgg, lscan_results_vgg, lscan_dists_vgg, tiempo_lscan_vgg, 4, 1, 200)"
   ]
  },
  {
   "cell_type": "code",
   "execution_count": null,
   "metadata": {},
   "outputs": [],
   "source": [
    "results_kmeans_6_vgg = aplicar_kmeans(dataset_q_vgg, dataset_r_vgg, lscan_results_vgg, lscan_dists_vgg, tiempo_lscan_vgg, 6, 1, 200)"
   ]
  },
  {
   "cell_type": "code",
   "execution_count": null,
   "metadata": {},
   "outputs": [],
   "source": [
    "# obtener efectividad y eficiencia para cada caso\n",
    "efectividad_kmeans_2_vgg = [e[0] for e in results_kmeans_2_vgg]\n",
    "eficiencia_kmeans_2_vgg = [e[1] for e in results_kmeans_2_vgg]\n",
    "\n",
    "efectividad_kmeans_4_vgg = [e[0] for e in results_kmeans_4_vgg]\n",
    "eficiencia_kmeans_4_vgg = [e[1] for e in results_kmeans_4_vgg]\n",
    "\n",
    "efectividad_kmeans_6_vgg = [e[0] for e in results_kmeans_6_vgg]\n",
    "eficiencia_kmeans_6_vgg = [e[1] for e in results_kmeans_6_vgg]\n",
    "\n",
    "fig, ax = plt.subplots()\n",
    "ax.set_xlim([0,100])\n",
    "ax.set_ylim([0,100])\n",
    "ax.set_xlabel('Efectividad (%)')\n",
    "ax.set_ylabel('Eficiencia (%)')\n",
    "ax.set_title(r'Efectividad vs Eficiencia')\n",
    "\n",
    "# graficar\n",
    "ax.plot(efectividad_kmeans_2_vgg, eficiencia_kmeans_2_vgg, 'b', label='Branching = 2')\n",
    "ax.plot(efectividad_kmeans_4_vgg, eficiencia_kmeans_4_vgg, 'g', label='Branching = 4') \n",
    "ax.plot(efectividad_kmeans_6_vgg, eficiencia_kmeans_6_vgg, 'r', label='Branching = 6')\n",
    "\n",
    "legend = ax.legend(loc='upper left', shadow=True, fontsize='large')\n",
    "\n",
    "plt.show()"
   ]
  },
  {
   "cell_type": "markdown",
   "metadata": {},
   "source": [
    "## Seleccionando el mejor\n",
    "Para cada caso tomamos el mejor resultado de KD-Tree y K-Means y los comparamos."
   ]
  },
  {
   "cell_type": "markdown",
   "metadata": {},
   "source": [
    "### MEL128"
   ]
  },
  {
   "cell_type": "code",
   "execution_count": null,
   "metadata": {},
   "outputs": [],
   "source": [
    "# mejor caso kdtree\n",
    "efectividad_kdtree_mel = efectividad_kdtree_10_mel\n",
    "eficiencia_kdtree_mel = eficiencia_kdtree_10_mel\n",
    "\n",
    "# mejor caso kmeans\n",
    "efectividad_kmeans_mel = efectividad_kmeans_6_mel\n",
    "eficiencia_kmeans_mel = eficiencia_kmeans_6_mel\n",
    "\n",
    "fig, ax = plt.subplots()\n",
    "ax.set_xlim([0,100])\n",
    "ax.set_ylim([0,100])\n",
    "ax.set_xlabel('Efectividad (%)')\n",
    "ax.set_ylabel('Eficiencia (%)')\n",
    "ax.set_title(r'Efectividad vs Eficiencia')\n",
    "\n",
    "# graficar\n",
    "ax.plot(efectividad_kdtree_mel, eficiencia_kdtree_mel, 'b', label='KD-Tree')\n",
    "ax.plot(efectividad_kmeans__mel, eficiencia_kmeans_mel, 'g', label='K-Means') \n",
    "\n",
    "legend = ax.legend(loc='upper left', shadow=True, fontsize='large')\n",
    "\n",
    "plt.show()"
   ]
  },
  {
   "cell_type": "markdown",
   "metadata": {},
   "source": [
    "### SIFT"
   ]
  },
  {
   "cell_type": "code",
   "execution_count": null,
   "metadata": {},
   "outputs": [],
   "source": [
    "# mejor caso kdtree\n",
    "efectividad_kdtree_sift = efectividad_kdtree_10_sift\n",
    "eficiencia_kdtree_sift = eficiencia_kdtree_10_sift\n",
    "\n",
    "# mejor caso kmeans\n",
    "efectividad_kmeans_mel = efectividad_kmeans_6_sift\n",
    "eficiencia_kmeans_mel = eficiencia_kmeans_6_mel\n",
    "\n",
    "fig, ax = plt.subplots()\n",
    "ax.set_xlim([0,100])\n",
    "ax.set_ylim([0,100])\n",
    "ax.set_xlabel('Efectividad (%)')\n",
    "ax.set_ylabel('Eficiencia (%)')\n",
    "ax.set_title(r'Efectividad vs Eficiencia')\n",
    "\n",
    "# graficar\n",
    "ax.plot(efectividad_kdtree_mel, eficiencia_kdtree_mel, 'b', label='KD-Tree')\n",
    "ax.plot(efectividad_kmeans__mel, eficiencia_kmeans_mel, 'g', label='K-Means') \n",
    "\n",
    "legend = ax.legend(loc='upper left', shadow=True, fontsize='large')\n",
    "\n",
    "plt.show()"
   ]
  },
  {
   "cell_type": "code",
   "execution_count": null,
   "metadata": {},
   "outputs": [],
   "source": [
    "# mejor caso kdtree\n",
    "efectividad_kdtree_mel = efectividad_kdtree_10_mel\n",
    "eficiencia_kdtree_mel = eficiencia_kdtree_10_mel\n",
    "\n",
    "# mejor caso kmeans\n",
    "efectividad_kmeans_mel = efectividad_kmeans_6_mel\n",
    "eficiencia_kmeans_mel = eficiencia_kmeans_6_mel\n",
    "\n",
    "fig, ax = plt.subplots()\n",
    "ax.set_xlim([0,100])\n",
    "ax.set_ylim([0,100])\n",
    "ax.set_xlabel('Efectividad (%)')\n",
    "ax.set_ylabel('Eficiencia (%)')\n",
    "ax.set_title(r'Efectividad vs Eficiencia')\n",
    "\n",
    "# graficar\n",
    "ax.plot(efectividad_kdtree_mel, eficiencia_kdtree_mel, 'b', label='KD-Tree')\n",
    "ax.plot(efectividad_kmeans__mel, eficiencia_kmeans_mel, 'g', label='K-Means') \n",
    "\n",
    "legend = ax.legend(loc='upper left', shadow=True, fontsize='large')\n",
    "\n",
    "plt.show()"
   ]
  }
 ],
 "metadata": {
  "kernelspec": {
   "display_name": "Python 3",
   "language": "python",
   "name": "python3"
  },
  "language_info": {
   "codemirror_mode": {
    "name": "ipython",
    "version": 3
   },
   "file_extension": ".py",
   "mimetype": "text/x-python",
   "name": "python",
   "nbconvert_exporter": "python",
   "pygments_lexer": "ipython3",
   "version": "3.6.6"
  }
 },
 "nbformat": 4,
 "nbformat_minor": 2
}
