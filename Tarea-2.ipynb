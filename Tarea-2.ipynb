{
 "cells": [
  {
   "cell_type": "markdown",
   "metadata": {},
   "source": [
    "# Tarea 2 - Recuperación de Información Multimedia\n",
    "El siguiente reporte pretende contestar las preguntas planteadas en el enunciado. Para esto se deben cargar los descriptores, y analizar los datos aplicando las técnicas vistas en clases."
   ]
  },
  {
   "cell_type": "markdown",
   "metadata": {},
   "source": [
    "## Carga de Descriptores"
   ]
  },
  {
   "cell_type": "code",
   "execution_count": 1,
   "metadata": {},
   "outputs": [
    {
     "name": "stdout",
     "output_type": "stream",
     "text": [
      "Q=(21573, 128) R=(33545, 128)\n",
      "Q=(2886, 128) R=(202088, 128)\n",
      "Q=(842, 4096) R=(10171, 4096)\n"
     ]
    }
   ],
   "source": [
    "import numpy\n",
    "import os\n",
    "\n",
    "\n",
    "def load_file(filename, num_vectors, vector_dimensions):\n",
    "    assert os.path.isfile(filename), \"no existe archivo \" + filename\n",
    "    mat = numpy.fromfile(filename, dtype=numpy.float32)\n",
    "    return numpy.reshape(mat, (num_vectors, vector_dimensions))\n",
    "\n",
    "\n",
    "def load_dataset_pair(dirname, num_vectors_q, num_vectors_r, vector_dimensions):\n",
    "    file_q = \"{}/Q-{}_{}_4F.bin\".format(dirname, num_vectors_q, vector_dimensions)\n",
    "    file_r = \"{}/R-{}_{}_4F.bin\".format(dirname, num_vectors_r, vector_dimensions)\n",
    "    data_q = load_file(file_q, num_vectors_q, vector_dimensions)\n",
    "    data_r = load_file(file_r, num_vectors_r, vector_dimensions)\n",
    "    return data_q, data_r\n",
    "\n",
    "\n",
    "(dataset_q, dataset_r) = load_dataset_pair(\"descriptores/MEL128\", 21573, 33545, 128)\n",
    "print(\"Q={} R={}\".format(dataset_q.shape, dataset_r.shape))\n",
    "\n",
    "(dataset_q, dataset_r) = load_dataset_pair(\"descriptores/SIFT\", 2886, 202088, 128)\n",
    "print(\"Q={} R={}\".format(dataset_q.shape, dataset_r.shape))\n",
    "\n",
    "(dataset_q, dataset_r) = load_dataset_pair(\"descriptores/VGG19\", 842, 10171, 4096)\n",
    "print(\"Q={} R={}\".format(dataset_q.shape, dataset_r.shape))"
   ]
  },
  {
   "cell_type": "markdown",
   "metadata": {},
   "source": [
    "## Construcción y Aplicación de Índices"
   ]
  },
  {
   "cell_type": "code",
   "execution_count": 2,
   "metadata": {},
   "outputs": [],
   "source": [
    "import pyflann\n",
    "import time\n",
    "\n",
    "#crea un objeto flann\n",
    "flann = pyflann.FLANN()"
   ]
  },
  {
   "cell_type": "markdown",
   "metadata": {},
   "source": [
    "### Linear Scan"
   ]
  },
  {
   "cell_type": "code",
   "execution_count": 3,
   "metadata": {},
   "outputs": [
    {
     "name": "stdout",
     "output_type": "stream",
     "text": [
      "construccion linear scan=0.0\n",
      "busqueda linear scan=60.0\n"
     ]
    }
   ],
   "source": [
    "#construir el indice linear scan\n",
    "t0 = time.time()\n",
    "flann.build_index(dataset_r, algorithm=\"linear\")\n",
    "t1 = time.time()\n",
    "print(\"construccion linear scan={:.1f}\".format(t1-t0))\n",
    "\n",
    "#buscar el NN usando el ultimo indice construido (linear scan)\n",
    "t0 = time.time()\n",
    "lscan_results, lscan_dists = flann.nn_index(dataset_q, num_neighbors=1, cores=1)\n",
    "t1 = time.time()\n",
    "print(\"busqueda linear scan={:.1f}\".format(t1-t0))"
   ]
  },
  {
   "cell_type": "markdown",
   "metadata": {},
   "source": [
    "### KDTree"
   ]
  },
  {
   "cell_type": "code",
   "execution_count": 4,
   "metadata": {},
   "outputs": [
    {
     "name": "stdout",
     "output_type": "stream",
     "text": [
      "construccion kdtree=1.8\n",
      "busqueda exacta kdtree=65.5\n",
      "busqueda aproximada kdtree=0.6\n",
      "efectividad=100.0%  correctas=842 incorrectas=0 mismo-NN=841\n",
      "efectividad=62.7%  correctas=528 incorrectas=314 mismo-NN=527\n"
     ]
    }
   ],
   "source": [
    "#construir el indice kdtree\n",
    "t0 = time.time()\n",
    "flann.build_index(dataset_r, algorithm=\"kdtree\", trees=1)\n",
    "t1 = time.time()\n",
    "print(\"construccion kdtree={:.1f}\".format(t1-t0))\n",
    "\n",
    "#buscar el NN con el ultimo indice construido (kdtree)\n",
    "t0 = time.time()\n",
    "exact_results, exact_dists = flann.nn_index(dataset_q, num_neighbors=1, cores=1, checks=-1)\n",
    "t1 = time.time()\n",
    "print(\"busqueda exacta kdtree={:.1f}\".format(t1-t0))\n",
    "\n",
    "#buscar aproximada del NN con el ultimo indice construido (kdtree)\n",
    "t0 = time.time()\n",
    "approx_results, approx_dists = flann.nn_index(dataset_q, num_neighbors=1, cores=1, checks=100)\n",
    "t1 = time.time()\n",
    "print(\"busqueda aproximada kdtree={:.1f}\".format(t1-t0))\n",
    "\n",
    "def evaluar_resultado(results, dists):\n",
    "    correctas = 0\n",
    "    incorrectas = 0\n",
    "    iguales = 0\n",
    "    for i in range(len(lscan_results)):\n",
    "        #comparar las distancias\n",
    "        if dists[i] == lscan_dists[i]: \n",
    "            correctas += 1\n",
    "        elif dists[i] > lscan_dists[i]: \n",
    "            incorrectas += 1        \n",
    "        else:\n",
    "            assert False, \"distancia erronea!\"\n",
    "        #comparar el NN\n",
    "        if results[i] == lscan_results[i]: \n",
    "            iguales += 1\n",
    "    print(\"efectividad={:.1f}%  correctas={} incorrectas={} mismo-NN={}\".format(100*correctas/(correctas+incorrectas), correctas, incorrectas, iguales))\n",
    "\n",
    "evaluar_resultado(exact_results, exact_dists)\n",
    "evaluar_resultado(approx_results, approx_dists)"
   ]
  },
  {
   "cell_type": "code",
   "execution_count": null,
   "metadata": {},
   "outputs": [],
   "source": []
  },
  {
   "cell_type": "code",
   "execution_count": null,
   "metadata": {},
   "outputs": [],
   "source": []
  }
 ],
 "metadata": {
  "kernelspec": {
   "display_name": "Python 3",
   "language": "python",
   "name": "python3"
  },
  "language_info": {
   "codemirror_mode": {
    "name": "ipython",
    "version": 3
   },
   "file_extension": ".py",
   "mimetype": "text/x-python",
   "name": "python",
   "nbconvert_exporter": "python",
   "pygments_lexer": "ipython3",
   "version": "3.6.6"
  }
 },
 "nbformat": 4,
 "nbformat_minor": 2
}
