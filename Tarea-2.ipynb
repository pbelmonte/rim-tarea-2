{
 "cells": [
  {
   "cell_type": "markdown",
   "metadata": {},
   "source": [
    "# Tarea 2 - Recuperación de Información Multimedia\n",
    "El siguiente reporte pretende contestar las preguntas planteadas en el enunciado. Para esto se deben cargar los descriptores, y analizar los datos aplicando las técnicas vistas en clases."
   ]
  },
  {
   "cell_type": "markdown",
   "metadata": {},
   "source": [
    "## Carga de Descriptores\n",
    "Primero se cargan los descriptores, los cuales seran almacenados en las variables dataset_q_mel, dataset_r_mel, dataset_q_sift, dataset_r_sift, dataset_q_vgg y dataset_r_vgg."
   ]
  },
  {
   "cell_type": "code",
   "execution_count": 5,
   "metadata": {},
   "outputs": [
    {
     "name": "stdout",
     "output_type": "stream",
     "text": [
      "Q=(21573, 128) R=(33545, 128)\n",
      "Q=(2886, 128) R=(202088, 128)\n",
      "Q=(842, 4096) R=(10171, 4096)\n"
     ]
    }
   ],
   "source": [
    "import numpy as np\n",
    "import os\n",
    "\n",
    "\n",
    "def load_file(filename, num_vectors, vector_dimensions):\n",
    "    assert os.path.isfile(filename), \"no existe archivo \" + filename\n",
    "    mat = np.fromfile(filename, dtype=np.float32)\n",
    "    return np.reshape(mat, (num_vectors, vector_dimensions))\n",
    "\n",
    "\n",
    "def load_dataset_pair(dirname, num_vectors_q, num_vectors_r, vector_dimensions):\n",
    "    file_q = \"{}/Q-{}_{}_4F.bin\".format(dirname, num_vectors_q, vector_dimensions)\n",
    "    file_r = \"{}/R-{}_{}_4F.bin\".format(dirname, num_vectors_r, vector_dimensions)\n",
    "    data_q = load_file(file_q, num_vectors_q, vector_dimensions)\n",
    "    data_r = load_file(file_r, num_vectors_r, vector_dimensions)\n",
    "    return data_q, data_r\n",
    "\n",
    "\n",
    "(dataset_q_mel, dataset_r_mel) = load_dataset_pair(\"descriptores/MEL128\", 21573, 33545, 128)\n",
    "print(\"Q={} R={}\".format(dataset_q_mel.shape, dataset_r_mel.shape))\n",
    "\n",
    "(dataset_q_sift, dataset_r_sift) = load_dataset_pair(\"descriptores/SIFT\", 2886, 202088, 128)\n",
    "print(\"Q={} R={}\".format(dataset_q_sift.shape, dataset_r_sift.shape))\n",
    "\n",
    "(dataset_q_vgg, dataset_r_vgg) = load_dataset_pair(\"descriptores/VGG19\", 842, 10171, 4096)\n",
    "print(\"Q={} R={}\".format(dataset_q_vgg.shape, dataset_r_vgg.shape))"
   ]
  },
  {
   "cell_type": "markdown",
   "metadata": {},
   "source": [
    "## Histogramas de distancias\n",
    "Se pide calcular el histograma de distancias del conjunto R de cada descriptor, y determinar su dimensión intrínseca ($\\rho=\\mu^2/2\\sigma^2$)."
   ]
  },
  {
   "cell_type": "markdown",
   "metadata": {},
   "source": [
    "Primero se define una función de distancia entre dos descriptores como un arreglo de las distancias entre cada par de vectores."
   ]
  },
  {
   "cell_type": "code",
   "execution_count": 53,
   "metadata": {},
   "outputs": [],
   "source": [
    "def distance(r, l):\n",
    "    dists = []\n",
    "    for x in r:\n",
    "        for y in l:\n",
    "            dist = np.linalg.norm(x-y)\n",
    "            if dist != 0:\n",
    "                dists.append(dist)\n",
    "    return np.array(dists)"
   ]
  },
  {
   "cell_type": "markdown",
   "metadata": {},
   "source": [
    "Se importan las librerías necesarias."
   ]
  },
  {
   "cell_type": "code",
   "execution_count": 54,
   "metadata": {},
   "outputs": [],
   "source": [
    "import matplotlib\n",
    "import matplotlib.pyplot as plt\n",
    "import random\n",
    "from scipy.stats import norm"
   ]
  },
  {
   "cell_type": "markdown",
   "metadata": {},
   "source": [
    "Se define una función para graficar el histograma que recibe como parámetros el dataset, y un nombre que se desea agregar al título."
   ]
  },
  {
   "cell_type": "code",
   "execution_count": 55,
   "metadata": {},
   "outputs": [],
   "source": [
    "def histogram(input_dataset, name):\n",
    "    np.random.seed(19680801)\n",
    "    \n",
    "    # se seleccionan 500 vectores de muestra\n",
    "    dataset = input_dataset[np.random.choice(input_dataset.shape[0], 500, replace=False), :]\n",
    "    \n",
    "    # se obtienen las distancias\n",
    "    dists = distance(dataset, dataset)\n",
    "    \n",
    "    # mu y sigma\n",
    "    mu, std = norm.fit(dists)\n",
    "    \n",
    "    # dimension intrinseca\n",
    "    rho = (mu**2) / (2 * (std**2))\n",
    "    \n",
    "    # cantidad de bins\n",
    "    num_bins = 100\n",
    "\n",
    "    fig, ax = plt.subplots()\n",
    "\n",
    "    n, bins, patches = ax.hist(dists, num_bins)\n",
    "\n",
    "    ax.set_xlabel('Distancia')\n",
    "    ax.set_ylabel('Frecuencia')\n",
    "    ax.set_title(r'Histograma de distancias ' + name + ':\\n$\\mu=' + str(mu) + '$, $\\sigma=' + str(std) + '$, $\\\\rho=' + str(rho) + '$')\n",
    "\n",
    "    plt.show()"
   ]
  },
  {
   "cell_type": "markdown",
   "metadata": {},
   "source": [
    "#### Histograma MEL128"
   ]
  },
  {
   "cell_type": "code",
   "execution_count": 56,
   "metadata": {},
   "outputs": [
    {
     "data": {
      "image/png": "[encoded data removed]",
      "text/plain": [
       "<Figure size 432x288 with 1 Axes>"
      ]
     },
     "metadata": {
      "needs_background": "light"
     },
     "output_type": "display_data"
    }
   ],
   "source": [
    "histogram(dataset_r_mel, \"Dataset R MEL128\")"
   ]
  },
  {
   "cell_type": "markdown",
   "metadata": {},
   "source": [
    "#### Histograma SIFT"
   ]
  },
  {
   "cell_type": "code",
   "execution_count": 57,
   "metadata": {},
   "outputs": [
    {
     "data": {
      "image/png": "[encoded data removed]",
      "text/plain": [
       "<Figure size 432x288 with 1 Axes>"
      ]
     },
     "metadata": {
      "needs_background": "light"
     },
     "output_type": "display_data"
    }
   ],
   "source": [
    "histogram(dataset_r_sift, \"Dataset R SIFT\")"
   ]
  },
  {
   "cell_type": "markdown",
   "metadata": {},
   "source": [
    "#### Histograma VGG19"
   ]
  },
  {
   "cell_type": "code",
   "execution_count": 58,
   "metadata": {},
   "outputs": [
    {
     "data": {
      "image/png": "[encoded data removed]",
      "text/plain": [
       "<Figure size 432x288 with 1 Axes>"
      ]
     },
     "metadata": {
      "needs_background": "light"
     },
     "output_type": "display_data"
    }
   ],
   "source": [
    "histogram(dataset_r_vgg, \"Dataset R VGG19\")"
   ]
  },
  {
   "cell_type": "markdown",
   "metadata": {},
   "source": [
    "## Construcción y Aplicación de Índices"
   ]
  },
  {
   "cell_type": "code",
   "execution_count": 6,
   "metadata": {},
   "outputs": [],
   "source": [
    "import pyflann\n",
    "import time\n",
    "\n",
    "#crea un objeto flann\n",
    "flann = pyflann.FLANN()"
   ]
  },
  {
   "cell_type": "markdown",
   "metadata": {},
   "source": [
    "### Linear Scan"
   ]
  },
  {
   "cell_type": "code",
   "execution_count": 7,
   "metadata": {},
   "outputs": [],
   "source": [
    "def aplicar_lscan(dataset_q, dataset_r):\n",
    "    #construir el indice linear scan\n",
    "    t0 = time.time()\n",
    "    flann.build_index(dataset_r, algorithm=\"linear\")\n",
    "    t1 = time.time()\n",
    "    print(\"construccion linear scan={:.1f}\".format(t1-t0))\n",
    "\n",
    "    #buscar el NN usando el ultimo indice construido (linear scan)\n",
    "    t0 = time.time()\n",
    "    lscan_results, lscan_dists = flann.nn_index(dataset_q, num_neighbors=1, cores=1)\n",
    "    t1 = time.time()\n",
    "    tiempo_lscan = t1-t0\n",
    "    print(\"busqueda linear scan={:.1f}\".format(tiempo_lscan))\n",
    "    return lscan_results, lscan_dists, tiempo_lscan"
   ]
  },
  {
   "cell_type": "code",
   "execution_count": 8,
   "metadata": {},
   "outputs": [
    {
     "name": "stdout",
     "output_type": "stream",
     "text": [
      "construccion linear scan=0.2\n",
      "busqueda linear scan=148.8\n"
     ]
    }
   ],
   "source": [
    "lscan_results_mel, lscan_dists_mel, tiempo_lscan_mel = aplicar_lscan(dataset_q_mel, dataset_r_mel)"
   ]
  },
  {
   "cell_type": "markdown",
   "metadata": {},
   "source": [
    "### KD-Tree"
   ]
  },
  {
   "cell_type": "code",
   "execution_count": 9,
   "metadata": {},
   "outputs": [],
   "source": [
    "def evaluar_resultado(results, dists, tiempo, lscan_results, lscan_dists, tiempo_lscan):\n",
    "    correctas = 0\n",
    "    incorrectas = 0\n",
    "    iguales = 0\n",
    "    for i in range(len(lscan_results)):\n",
    "        #comparar las distancias\n",
    "        if dists[i] == lscan_dists[i]: \n",
    "            correctas += 1\n",
    "        elif dists[i] > lscan_dists[i]: \n",
    "            incorrectas += 1        \n",
    "        else:\n",
    "            assert False, \"distancia erronea!\"\n",
    "        #comparar el NN\n",
    "        if results[i] == lscan_results[i]: \n",
    "            iguales += 1\n",
    "    efectividad = 100 * correctas / (correctas + incorrectas)\n",
    "    eficiencia = 100 * tiempo / tiempo_lscan\n",
    "    print(\"efectividad={:.1f}% eficiencia={:.1f}% correctas={} incorrectas={} mismo-NN={}\".format(efectividad, eficiencia, correctas, incorrectas, iguales))\n",
    "    return efectividad, eficiencia, correctas, incorrectas, iguales"
   ]
  },
  {
   "cell_type": "code",
   "execution_count": 10,
   "metadata": {},
   "outputs": [],
   "source": [
    "def aplicar_kdtree(dataset_q, dataset_r, lscan_results, lscan_dists, tiempo_lscan, trees, checks):\n",
    "    #construir el indice kdtree con trees = trees\n",
    "    t0 = time.time()\n",
    "    flann.build_index(dataset_r, algorithm=\"kdtree\", trees=trees)\n",
    "    t1 = time.time()\n",
    "    print(\"construccion kdtree={:.1f}, trees={}\".format(t1-t0, trees))\n",
    "\n",
    "    #buscar aproximada del NN con el ultimo indice construido (kdtree)\n",
    "    t0 = time.time()\n",
    "    approx_results, approx_dists = flann.nn_index(dataset_q, num_neighbors=1, cores=1, checks=checks)\n",
    "    t1 = time.time()\n",
    "    tiempo = t1-t0\n",
    "    print(\"busqueda aproximada kdtree={:.1f}, trees={}\".format(tiempo, trees))\n",
    "\n",
    "    efectividad, eficiencia, correctas, incorrectas, iguales = evaluar_resultado(approx_results, approx_dists, tiempo, lscan_results, lscan_dists, tiempo_lscan)\n",
    "    return efectividad, eficiencia, correctas, incorrectas, iguales"
   ]
  },
  {
   "cell_type": "code",
   "execution_count": 11,
   "metadata": {},
   "outputs": [
    {
     "name": "stdout",
     "output_type": "stream",
     "text": [
      "construccion kdtree=0.3, trees=1\n",
      "busqueda aproximada kdtree=1.7, trees=1\n",
      "efectividad=56.4% eficiencia=1.1% correctas=12173 incorrectas=9400 mismo-NN=12167\n"
     ]
    }
   ],
   "source": [
    "efectividad, eficiencia, correctas, incorrectas, iguales = aplicar_kdtree(dataset_q_mel, dataset_r_mel, lscan_results_mel, lscan_dists_mel, tiempo_lscan_mel, 1, 100)"
   ]
  }
 ],
 "metadata": {
  "kernelspec": {
   "display_name": "Python 3",
   "language": "python",
   "name": "python3"
  },
  "language_info": {
   "codemirror_mode": {
    "name": "ipython",
    "version": 3
   },
   "file_extension": ".py",
   "mimetype": "text/x-python",
   "name": "python",
   "nbconvert_exporter": "python",
   "pygments_lexer": "ipython3",
   "version": "3.6.6"
  }
 },
 "nbformat": 4,
 "nbformat_minor": 2
}
