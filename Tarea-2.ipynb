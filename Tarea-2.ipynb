{
 "cells": [
  {
   "cell_type": "markdown",
   "metadata": {},
   "source": [
    "# Tarea 2 - Recuperación de Información Multimedia\n",
    "El siguiente reporte pretende contestar las preguntas planteadas en el enunciado. Para esto se deben cargar los descriptores, y analizar los datos aplicando las técnicas vistas en clases."
   ]
  },
  {
   "cell_type": "markdown",
   "metadata": {},
   "source": [
    "## Carga de Descriptores"
   ]
  },
  {
   "cell_type": "code",
   "execution_count": 3,
   "metadata": {},
   "outputs": [
    {
     "name": "stdout",
     "output_type": "stream",
     "text": [
      "Q=(21573, 128) R=(33545, 128)\n",
      "Q=(2886, 128) R=(202088, 128)\n",
      "Q=(842, 4096) R=(10171, 4096)\n"
     ]
    }
   ],
   "source": [
    "import numpy\n",
    "import os\n",
    "\n",
    "\n",
    "def load_file(filename, num_vectors, vector_dimensions):\n",
    "    assert os.path.isfile(filename), \"no existe archivo \" + filename\n",
    "    mat = numpy.fromfile(filename, dtype=numpy.float32)\n",
    "    return numpy.reshape(mat, (num_vectors, vector_dimensions))\n",
    "\n",
    "\n",
    "def load_dataset_pair(dirname, num_vectors_q, num_vectors_r, vector_dimensions):\n",
    "    file_q = \"{}/Q-{}_{}_4F.bin\".format(dirname, num_vectors_q, vector_dimensions)\n",
    "    file_r = \"{}/R-{}_{}_4F.bin\".format(dirname, num_vectors_r, vector_dimensions)\n",
    "    data_q = load_file(file_q, num_vectors_q, vector_dimensions)\n",
    "    data_r = load_file(file_r, num_vectors_r, vector_dimensions)\n",
    "    return data_q, data_r\n",
    "\n",
    "\n",
    "(dataset_q, dataset_r) = load_dataset_pair(\"descriptores/MEL128\", 21573, 33545, 128)\n",
    "print(\"Q={} R={}\".format(dataset_q.shape, dataset_r.shape))\n",
    "\n",
    "(dataset_q, dataset_r) = load_dataset_pair(\"descriptores/SIFT\", 2886, 202088, 128)\n",
    "print(\"Q={} R={}\".format(dataset_q.shape, dataset_r.shape))\n",
    "\n",
    "(dataset_q, dataset_r) = load_dataset_pair(\"descriptores/VGG19\", 842, 10171, 4096)\n",
    "print(\"Q={} R={}\".format(dataset_q.shape, dataset_r.shape))"
   ]
  },
  {
   "cell_type": "markdown",
   "metadata": {},
   "source": [
    "## Construcción y Aplicación de Índices"
   ]
  },
  {
   "cell_type": "code",
   "execution_count": 4,
   "metadata": {},
   "outputs": [],
   "source": [
    "import pyflann\n",
    "import time\n",
    "\n",
    "#crea un objeto flann\n",
    "flann = pyflann.FLANN()"
   ]
  },
  {
   "cell_type": "markdown",
   "metadata": {},
   "source": [
    "### Linear Scan"
   ]
  },
  {
   "cell_type": "code",
   "execution_count": 30,
   "metadata": {},
   "outputs": [
    {
     "name": "stdout",
     "output_type": "stream",
     "text": [
      "construccion linear scan=0.0\n",
      "busqueda linear scan=58.3\n"
     ]
    }
   ],
   "source": [
    "#construir el indice linear scan\n",
    "t0 = time.time()\n",
    "flann.build_index(dataset_r, algorithm=\"linear\")\n",
    "t1 = time.time()\n",
    "print(\"construccion linear scan={:.1f}\".format(t1-t0))\n",
    "\n",
    "#buscar el NN usando el ultimo indice construido (linear scan)\n",
    "t0 = time.time()\n",
    "lscan_results, lscan_dists = flann.nn_index(dataset_q, num_neighbors=1, cores=1)\n",
    "t1 = time.time()\n",
    "tiempo_lscan = t1-t0\n",
    "print(\"busqueda linear scan={:.1f}\".format(tiempo_lscan))"
   ]
  },
  {
   "cell_type": "markdown",
   "metadata": {},
   "source": [
    "### KD-Tree"
   ]
  },
  {
   "cell_type": "code",
   "execution_count": 40,
   "metadata": {},
   "outputs": [],
   "source": [
    "def evaluar_resultado(results, dists, tiempo):\n",
    "    correctas = 0\n",
    "    incorrectas = 0\n",
    "    iguales = 0\n",
    "    for i in range(len(lscan_results)):\n",
    "        #comparar las distancias\n",
    "        if dists[i] == lscan_dists[i]: \n",
    "            correctas += 1\n",
    "        elif dists[i] > lscan_dists[i]: \n",
    "            incorrectas += 1        \n",
    "        else:\n",
    "            assert False, \"distancia erronea!\"\n",
    "        #comparar el NN\n",
    "        if results[i] == lscan_results[i]: \n",
    "            iguales += 1\n",
    "    efectividad = 100 * correctas / (correctas + incorrectas)\n",
    "    eficiencia = 100 * tiempo / tiempo_lscan\n",
    "    print(\"efectividad={:.1f}% eficiencia={:.1f}% correctas={} incorrectas={} mismo-NN={}\".format(efectividad, eficiencia, correctas, incorrectas, iguales))\n",
    "    return efectividad, eficiencia, correctas, incorrectas, iguales"
   ]
  },
  {
   "cell_type": "code",
   "execution_count": 44,
   "metadata": {},
   "outputs": [],
   "source": [
    "def aplicar_kdtree(trees, checks):\n",
    "    #construir el indice kdtree con trees = trees\n",
    "    t0 = time.time()\n",
    "    flann.build_index(dataset_r, algorithm=\"kdtree\", trees=trees)\n",
    "    t1 = time.time()\n",
    "    print(\"construccion kdtree={:.1f}, trees={}\".format(t1-t0, trees))\n",
    "\n",
    "    #buscar aproximada del NN con el ultimo indice construido (kdtree)\n",
    "    t0 = time.time()\n",
    "    approx_results, approx_dists = flann.nn_index(dataset_q, num_neighbors=1, cores=1, checks=checks)\n",
    "    t1 = time.time()\n",
    "    tiempo = t1-t0\n",
    "    print(\"busqueda aproximada kdtree={:.1f}, trees={}\".format(tiempo, trees))\n",
    "\n",
    "    efectividad, eficiencia, correctas, incorrectas, iguales = evaluar_resultado(approx_results, approx_dists, tiempo)\n",
    "    return efectividad, eficiencia, correctas, incorrectas, iguales"
   ]
  },
  {
   "cell_type": "code",
   "execution_count": 45,
   "metadata": {},
   "outputs": [
    {
     "name": "stdout",
     "output_type": "stream",
     "text": [
      "construccion kdtree=2.0, trees=1\n",
      "busqueda aproximada kdtree=0.6, trees=1\n",
      "efectividad=63.9% eficiencia=1.1% correctas=538 incorrectas=304 mismo-NN=538\n"
     ]
    }
   ],
   "source": [
    "efectividad, eficiencia, correctas, incorrectas, iguales = aplicar_kdtree(1, 100)"
   ]
  },
  {
   "cell_type": "code",
   "execution_count": 47,
   "metadata": {},
   "outputs": [
    {
     "name": "stdout",
     "output_type": "stream",
     "text": [
      "construccion kdtree=2.0, trees=1\n",
      "busqueda aproximada kdtree=6.3, trees=1\n",
      "efectividad=90.5% eficiencia=10.7% correctas=762 incorrectas=80 mismo-NN=761\n"
     ]
    }
   ],
   "source": [
    "efectividad, eficiencia, correctas, incorrectas, iguales = aplicar_kdtree(1, 1000)"
   ]
  },
  {
   "cell_type": "code",
   "execution_count": 48,
   "metadata": {},
   "outputs": [
    {
     "name": "stdout",
     "output_type": "stream",
     "text": [
      "construccion kdtree=4.0, trees=2\n",
      "busqueda aproximada kdtree=0.7, trees=2\n",
      "efectividad=65.8% eficiencia=1.1% correctas=554 incorrectas=288 mismo-NN=554\n"
     ]
    }
   ],
   "source": [
    "efectividad, eficiencia, correctas, incorrectas, iguales = aplicar_kdtree(2, 100)"
   ]
  },
  {
   "cell_type": "code",
   "execution_count": 49,
   "metadata": {},
   "outputs": [
    {
     "name": "stdout",
     "output_type": "stream",
     "text": [
      "construccion kdtree=3.9, trees=2\n",
      "busqueda aproximada kdtree=6.3, trees=2\n",
      "efectividad=91.8% eficiencia=10.9% correctas=773 incorrectas=69 mismo-NN=773\n"
     ]
    }
   ],
   "source": [
    "efectividad, eficiencia, correctas, incorrectas, iguales = aplicar_kdtree(2, 1000)"
   ]
  },
  {
   "cell_type": "code",
   "execution_count": null,
   "metadata": {},
   "outputs": [],
   "source": []
  }
 ],
 "metadata": {
  "kernelspec": {
   "display_name": "Python 3",
   "language": "python",
   "name": "python3"
  },
  "language_info": {
   "codemirror_mode": {
    "name": "ipython",
    "version": 3
   },
   "file_extension": ".py",
   "mimetype": "text/x-python",
   "name": "python",
   "nbconvert_exporter": "python",
   "pygments_lexer": "ipython3",
   "version": "3.6.6"
  }
 },
 "nbformat": 4,
 "nbformat_minor": 2
}
